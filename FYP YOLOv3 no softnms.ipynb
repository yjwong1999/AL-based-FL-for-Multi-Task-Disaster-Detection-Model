{
 "cells": [
  {
   "cell_type": "markdown",
   "id": "a68a7720",
   "metadata": {},
   "source": [
    "# Load all modules and Define the FLAGS\n",
    "Main reference for the YOLOv3 model definition is: <br>\n",
    "https://github.com/zzh8829/yolov3-tf2"
   ]
  },
  {
   "cell_type": "code",
   "execution_count": 1,
   "id": "443698ca",
   "metadata": {},
   "outputs": [
    {
     "name": "stderr",
     "output_type": "stream",
     "text": [
      "2022-06-06 02:06:52.964878: I tensorflow/stream_executor/platform/default/dso_loader.cc:53] Successfully opened dynamic library libcudart.so.11.0\n"
     ]
    }
   ],
   "source": [
    "import os\n",
    "import sys \n",
    "import shutil\n",
    "import time\n",
    "import timeit\n",
    "import json\n",
    "\n",
    "import matplotlib.pyplot as plt\n",
    "import pandas as pd\n",
    "\n",
    "from IPython.display import clear_output\n",
    "import cv2\n",
    "\n",
    "import numpy as np\n",
    "import tensorflow as tf\n",
    "from tensorflow.keras.layers import Lambda\n",
    "from tensorflow.keras.callbacks import (\n",
    "    ReduceLROnPlateau,\n",
    "    EarlyStopping,\n",
    "    ModelCheckpoint,\n",
    "    TensorBoard\n",
    ")\n",
    "\n",
    "from yolov3_tf2.convert import convert_weight\n",
    "from yolov3_tf2.rpi_models import (\n",
    "    YoloV3, YoloLoss, get_anchors,\n",
    "    yolo_boxes, yolo_nms,\n",
    "    Darknet,\n",
    "    get_disaster_head\n",
    ")\n",
    "from yolov3_tf2.utils import freeze_all, draw_outputs\n",
    "import yolov3_tf2.dataset as dataset\n",
    "from yolov3_tf2.dataset import transform_images\n",
    "\n",
    "\n",
    "# define the flags\n",
    "class Flags:\n",
    "    def __init__(self):\n",
    "        self.size = 416\n",
    "        self.num_classes = 1\n",
    "        self.yolo_max_boxes = 100\n",
    "        self.yolo_iou_threshold = 0.5\n",
    "        self.yolo_score_threshold = 0.5\n",
    "        \n",
    "        self.transfer = 'darknet'\n",
    "        self.root = os.getcwd()\n",
    "        self.ori_weight_path = os.path.join(self.root, 'data/yolov3.weights')\n",
    "        self.new_weigth_path = os.path.join(self.root, 'checkpoints/yolov3.tf')\n",
    "        \n",
    "        self.epochs = 100\n",
    "        self.mini_batch_size = 8\n",
    "        self.num_grad_accumulates = 8 #8 #16\n",
    "        self.learning_rate = 1e-3\n",
    "        self.num_classes = 1\n",
    "\n",
    "        self.mode = 'eager_fit'\n",
    "\n",
    "FLAGS = Flags()"
   ]
  },
  {
   "cell_type": "code",
   "execution_count": 2,
   "id": "fedb3a3f",
   "metadata": {},
   "outputs": [],
   "source": [
    "def show_image(input_var):\n",
    "    if type(input_var) == str:\n",
    "        img_path = os.path.join(FLAGS.root, 'crisis_vision_benchmarks/', input_var)\n",
    "        img = plt.imread(img_path)\n",
    "    else:\n",
    "        img = input_var\n",
    "    plt.imshow(img)\n",
    "    plt.show()"
   ]
  },
  {
   "cell_type": "code",
   "execution_count": 3,
   "id": "5e58f9b8",
   "metadata": {},
   "outputs": [
    {
     "name": "stdout",
     "output_type": "stream",
     "text": [
      "Tensorflow version 2.5.0\n",
      "Num GPUs Available:  1\n"
     ]
    }
   ],
   "source": [
    "devices = tf.config.list_physical_devices('GPU')\n",
    "clear_output()\n",
    "\n",
    "print(\"Tensorflow version \" + tf.__version__)\n",
    "print(\"Num GPUs Available: \", len(devices))"
   ]
  },
  {
   "cell_type": "markdown",
   "id": "66157fe1",
   "metadata": {},
   "source": [
    "# Get the Pretrained Weights from the Pretrained YOLOv3\n",
    "\n",
    "All the sub-layers/sub-models in the MobileNetv2-YOLOv3 are stated below: <br>\n",
    "- 'yolo_darknet', <br>\n",
    "- 'yolo_conv_0', <br>\n",
    "- 'yolo_conv_1', <br>\n",
    "- 'yolo_conv_2', <br>\n",
    "- 'yolo_output_0', <br>\n",
    "- 'yolo_output_1', <br>\n",
    "- 'yolo_output_2', <br>\n",
    "\n",
    "Choose the layers to be transfered learning in the code below.\n"
   ]
  },
  {
   "cell_type": "code",
   "execution_count": 4,
   "id": "69b5981a",
   "metadata": {},
   "outputs": [],
   "source": [
    "# load the actual model and anchor to be trained\n",
    "model = YoloV3(FLAGS.size, \n",
    "               channels=3, \n",
    "               classes=FLAGS.num_classes, \n",
    "               auxiliary=False, \n",
    "               training=False)\n",
    "anchors, anchor_masks = get_anchors(FLAGS.size)\n",
    "\n",
    "# load the weights for the backbone and neck\n",
    "YOLOV3_LAYER_LIST = [\n",
    "    'yolo_darknet',\n",
    "    'yolo_conv_0',\n",
    "    'yolo_conv_1',\n",
    "    'yolo_conv_2',\n",
    "]\n",
    "\n",
    "# transfer learning\n",
    "if FLAGS.transfer == 'darknet':\n",
    "    # load a pretrained model\n",
    "    model_pretrained = YoloV3(FLAGS.size,\n",
    "                              channels=3,\n",
    "                              classes=80,\n",
    "                              auxiliary=False,\n",
    "                              training=False\n",
    "                              )\n",
    "    \n",
    "    # load the yolo weights\n",
    "    model_pretrained.load_weights(FLAGS.new_weigth_path)\n",
    "    \n",
    "    # transfer the yolo darknet backbone weights to our current model\n",
    "    for layer in YOLOV3_LAYER_LIST:\n",
    "        model.get_layer(layer).set_weights(\n",
    "            model_pretrained.get_layer(layer).get_weights())\n",
    "        \n",
    "        # freeze the yolo darknet backbone \n",
    "        freeze_all(model.get_layer(layer))\n",
    "\n",
    "# get anchor\n",
    "anchors, anchor_masks = get_anchors(FLAGS.size)\n",
    "\n",
    "clear_output()"
   ]
  },
  {
   "cell_type": "code",
   "execution_count": 5,
   "id": "21c40f71",
   "metadata": {},
   "outputs": [
    {
     "name": "stdout",
     "output_type": "stream",
     "text": [
      "Model: \"yolov3\"\n",
      "__________________________________________________________________________________________________\n",
      "Layer (type)                    Output Shape         Param #     Connected to                     \n",
      "==================================================================================================\n",
      "input (InputLayer)              [(None, 416, 416, 3) 0                                            \n",
      "__________________________________________________________________________________________________\n",
      "yolo_darknet (Functional)       ((None, None, None,  40620640    input[0][0]                      \n",
      "__________________________________________________________________________________________________\n",
      "yolo_conv_0 (Functional)        (None, 13, 13, 512)  11024384    yolo_darknet[0][2]               \n",
      "__________________________________________________________________________________________________\n",
      "yolo_conv_1 (Functional)        (None, 26, 26, 256)  2957312     yolo_conv_0[0][0]                \n",
      "                                                                 yolo_darknet[0][1]               \n",
      "__________________________________________________________________________________________________\n",
      "yolo_conv_2 (Functional)        (None, 52, 52, 128)  741376      yolo_conv_1[0][0]                \n",
      "                                                                 yolo_darknet[0][0]               \n",
      "__________________________________________________________________________________________________\n",
      "yolo_output_0 (Functional)      (None, None, None, 3 4741138     yolo_conv_0[0][0]                \n",
      "__________________________________________________________________________________________________\n",
      "yolo_output_1 (Functional)      (None, None, None, 3 1190930     yolo_conv_1[0][0]                \n",
      "__________________________________________________________________________________________________\n",
      "yolo_output_2 (Functional)      (None, None, None, 3 300562      yolo_conv_2[0][0]                \n",
      "__________________________________________________________________________________________________\n",
      "yolo_boxes_0 (Lambda)           ((None, None, None,  0           yolo_output_0[0][0]              \n",
      "__________________________________________________________________________________________________\n",
      "yolo_boxes_1 (Lambda)           ((None, None, None,  0           yolo_output_1[0][0]              \n",
      "__________________________________________________________________________________________________\n",
      "yolo_boxes_2 (Lambda)           ((None, None, None,  0           yolo_output_2[0][0]              \n",
      "__________________________________________________________________________________________________\n",
      "yolo_nms (Lambda)               ((None, 4), (None,)) 0           yolo_boxes_0[0][0]               \n",
      "                                                                 yolo_boxes_0[0][1]               \n",
      "                                                                 yolo_boxes_0[0][2]               \n",
      "                                                                 yolo_boxes_1[0][0]               \n",
      "                                                                 yolo_boxes_1[0][1]               \n",
      "                                                                 yolo_boxes_1[0][2]               \n",
      "                                                                 yolo_boxes_2[0][0]               \n",
      "                                                                 yolo_boxes_2[0][1]               \n",
      "                                                                 yolo_boxes_2[0][2]               \n",
      "==================================================================================================\n",
      "Total params: 61,576,342\n",
      "Trainable params: 6,229,046\n",
      "Non-trainable params: 55,347,296\n",
      "__________________________________________________________________________________________________\n"
     ]
    }
   ],
   "source": [
    "model.summary()"
   ]
  },
  {
   "cell_type": "code",
   "execution_count": 6,
   "id": "b955905b",
   "metadata": {},
   "outputs": [
    {
     "data": {
      "image/png": "[encoded data removed]",
      "text/plain": [
       "<IPython.core.display.Image object>"
      ]
     },
     "execution_count": 6,
     "metadata": {},
     "output_type": "execute_result"
    }
   ],
   "source": [
    "from tensorflow.keras.utils import plot_model\n",
    "plot_model(model, show_shapes=True)"
   ]
  },
  {
   "cell_type": "code",
   "execution_count": 7,
   "id": "b83275e7",
   "metadata": {},
   "outputs": [
    {
     "name": "stdout",
     "output_type": "stream",
     "text": [
      "checkpoints_01/all-img__6-layers__64-bs__25-epoch__1e-5-lr.tf\n"
     ]
    },
    {
     "data": {
      "text/plain": [
       "<tensorflow.python.training.tracking.util.CheckpointLoadStatus at 0x7fb7800aa2d0>"
      ]
     },
     "execution_count": 7,
     "metadata": {},
     "output_type": "execute_result"
    }
   ],
   "source": [
    "_model_path = 'checkpoints_01/{}-img__{}-layers__{}-bs__{}-epoch__{}-lr.tf'.format('all', 6, 64, 25, '1e-5')\n",
    "print(_model_path)\n",
    "model.load_weights(_model_path)"
   ]
  },
  {
   "cell_type": "markdown",
   "id": "834e6433",
   "metadata": {},
   "source": [
    "# Task 1: Disaster Detection\n",
    "# Load the Dataset for Disaster Detection\n",
    "Define a tf.data pipeline to load the dataset\n",
    "- Get images and labels from Task (a) subset - Disaster Type\n",
    "- Define the functions for (i) loading images and (ii) image augmentation\n",
    "- The two functions will be used by tf.data pipeline to load and augment the images\n",
    "- Create tf.data.dataset instance for **Training/Validation/Testing**"
   ]
  },
  {
   "cell_type": "code",
   "execution_count": 8,
   "id": "f1528744",
   "metadata": {},
   "outputs": [
    {
     "name": "stdout",
     "output_type": "stream",
     "text": [
      "TRAINING\n"
     ]
    }
   ],
   "source": [
    "data_root = os.path.join(FLAGS.root, 'crisis_vision_benchmarks/')\n",
    "\n",
    "annot_train_path = os.path.join(data_root, 'tasks/disaster_types/consolidated/consolidated_disaster_types_train_final.tsv')\n",
    "annot_dev_path = os.path.join(data_root, 'tasks/disaster_types/consolidated/consolidated_disaster_types_dev_final.tsv')\n",
    "annot_test_path = os.path.join(data_root, 'tasks/disaster_types/consolidated/consolidated_disaster_types_test_final.tsv')\n",
    "    \n",
    "# training data\n",
    "print('TRAINING')\n",
    "df = pd.read_csv(annot_train_path, sep='\\t')\n",
    "train_img_paths = df['image_path'].tolist()\n",
    "train_labels = df['class_label'].tolist()\n",
    "\n",
    "def get_unique(alist):\n",
    "    np_arr = np.array(alist)\n",
    "    return np.unique(np_arr)\n",
    "\n",
    "data_root = tf.convert_to_tensor(data_root, tf.string)\n",
    "unique_label = get_unique(train_labels)"
   ]
  },
  {
   "cell_type": "markdown",
   "id": "db49500c",
   "metadata": {},
   "source": [
    "# Task 2: Load Dataset for Victim Detection\n",
    "## Load the Dataset for Person Detection\n",
    "- Get the pretrained model and detect for people\n",
    "- Save the bbox annotation into json file\n",
    "- Define a tf.data pipeline to load the dataset"
   ]
  },
  {
   "cell_type": "code",
   "execution_count": 9,
   "id": "3b689115",
   "metadata": {},
   "outputs": [
    {
     "name": "stdout",
     "output_type": "stream",
     "text": [
      "5994\n",
      "634\n",
      "1448\n"
     ]
    }
   ],
   "source": [
    "def get_annotation(json_path, max_limit):\n",
    "    with open(json_path) as f:\n",
    "        # load the dataset\n",
    "        json_dataset = json.load(f)\n",
    "        # get data\n",
    "        img_paths = []\n",
    "        annots = []\n",
    "        count = 0\n",
    "        if max_limit is None:\n",
    "            max_limit = len(json_dataset['data'])\n",
    "        for data in json_dataset['data']:\n",
    "            # image path\n",
    "            img_paths.append(data['img_path'])\n",
    "            # get the box corner (x1, y1, x2, y2)\n",
    "            bboxs = data['bboxs']\n",
    "            annot = []\n",
    "            for bbox in bboxs:\n",
    "                x1 = bbox['x1']\n",
    "                y1 = bbox['y1']\n",
    "                x2 = bbox['x2']\n",
    "                y2 = bbox['y2']\n",
    "                # last 0 is class for person\n",
    "                annot += [[float(x1), float(y1), float(x2), float(y2), 0.0]]\n",
    "            annot += [[0, 0, 0, 0, 0]] * (FLAGS.yolo_max_boxes - len(annot))\n",
    "            annot = tf.convert_to_tensor(annot)\n",
    "            annots.append(annot)\n",
    "            count += 1\n",
    "            if count == max_limit:\n",
    "                break\n",
    "                \n",
    "    return img_paths, annots\n",
    "\n",
    "MAX_LIMIT = None\n",
    "train_json_path = 'others/train_damage_severity_person.json'\n",
    "val_json_path = 'others/val_damage_severity_person.json'\n",
    "test_json_path = 'others/test_damage_severity_person.json'\n",
    "\n",
    "train_img_paths, train_annots = get_annotation(train_json_path, MAX_LIMIT)\n",
    "val_img_paths, val_annots = get_annotation(val_json_path, MAX_LIMIT)\n",
    "test_img_paths, test_annots = get_annotation(test_json_path, MAX_LIMIT)\n",
    "\n",
    "print(len(train_annots))\n",
    "print(len(val_annots))\n",
    "print(len(test_annots))"
   ]
  },
  {
   "cell_type": "markdown",
   "id": "91807abf",
   "metadata": {},
   "source": [
    "# Demo 2: Person Detection"
   ]
  },
  {
   "cell_type": "code",
   "execution_count": 10,
   "id": "63b993bf",
   "metadata": {},
   "outputs": [],
   "source": [
    "if FLAGS.num_classes == 80: \n",
    "    labels = [\n",
    "        'person','bicycle','car','motorbike','aeroplane',\n",
    "        'bus','train','truck','boat','traffic light',\n",
    "        'fire hydrant','stop sign','parking meter','bench','bird',\n",
    "        'cat','dog','horse','sheep','cow',\n",
    "        'elephant','bear','zebra','giraffe','backpack',\n",
    "        'umbrella','handbag','tie','suitcase','frisbee',\n",
    "        'skis','snowboard','sports ball','kite','baseball bat',\n",
    "        'baseball glove','skateboard','surfboard','tennis racket','bottle',\n",
    "        'wine glass','cup','fork','knife','spoon','bowl',\n",
    "        'banana','apple','sandwich','orange','broccoli',\n",
    "        'carrot','hot dog','pizza','donut','cake',\n",
    "        'chair','sofa','pottedplant','bed','diningtable',\n",
    "        'toilet','tvmonitor','laptop','mouse','remote',\n",
    "        'keyboard','cell phone','microwave','oven','toaster',\n",
    "        'sink','refrigerator','book','clock','vase',\n",
    "        'scissors','teddy bear','hair drier','toothbrush'\n",
    "    ]\n",
    "else:\n",
    "    labels = ['person']\n",
    "    \n",
    "unique_label = ['earthquake', 'fire', 'flood', 'hurricane', 'landslide',\n",
    "       'not_disaster', 'other_disaster']"
   ]
  },
  {
   "cell_type": "code",
   "execution_count": null,
   "id": "f667c8a3",
   "metadata": {},
   "outputs": [],
   "source": [
    "def nms(boxes, confidence_score, overlapThresh):\n",
    "    def iou(box_1, box_2):\n",
    "        width_of_overlap_area = min(box_1[1], box_2[1]) - max(box_1[0], box_2[0])\n",
    "        height_of_overlap_area = min(box_1[3], box_2[3]) - max(box_1[2], box_2[2])\n",
    "        if width_of_overlap_area < 0 or height_of_overlap_area < 0:\n",
    "            area_of_overlap = 0\n",
    "        else:\n",
    "            area_of_overlap = width_of_overlap_area * height_of_overlap_area\n",
    "        box_1_area = (box_1[3] - box_1[2]) * (box_1[1] - box_1[0])\n",
    "        box_2_area = (box_2[3] - box_2[2]) * (box_2[1] - box_2[0])\n",
    "        area_of_union = box_1_area + box_2_area - area_of_overlap\n",
    "        if area_of_union == 0:\n",
    "            return 0\n",
    "        return area_of_overlap / area_of_union\n",
    "    \n",
    "    mask = confidence_score >= 0.4\n",
    "    boxes, confidence_score = boxes[mask], confidence_score[mask]\n",
    "    boxes, confidence_score = np.array(boxes), np.array(confidence_score)\n",
    "    \n",
    "    sort_idx = np.argsort(-confidence_score)\n",
    "    boxes, confidence_score = boxes[sort_idx], confidence_score[sort_idx]\n",
    "\n",
    "    for i in range(len(boxes)):\n",
    "        for j in range(i + 1, len(boxes)):\n",
    "            if False:\n",
    "                ovr = iou(boxes[i], boxes[j])\n",
    "                weight = np.exp(-(ovr * ovr) / overlapThresh)\n",
    "                confidence_score[j] = confidence_score[j] * weight\n",
    "            elif iou(boxes[i], boxes[j]) > overlapThresh:\n",
    "                confidence_score[j] = 0\n",
    "            \n",
    "\n",
    "    mask = confidence_score >= 0.4\n",
    "    boxes, confidence_score = boxes[mask], confidence_score[mask]\n",
    "    valid_detections = np.shape(boxes)[0]\n",
    "    classes = [0] * valid_detections\n",
    "\n",
    "    return boxes, confidence_score, classes, valid_detections\n",
    "\n",
    "\n",
    "def draw_outputs(img, outputs, class_names, label_only=True):\n",
    "    boxes, objectness, classes, nums = outputs\n",
    "\n",
    "    wh = np.flip(img.shape[0:2])\n",
    "    for i in range(nums):\n",
    "        x1y1 = tuple((np.array(boxes[i][0:2]) * wh).astype(np.int32))\n",
    "        x2y2 = tuple((np.array(boxes[i][2:4]) * wh).astype(np.int32))\n",
    "        img = cv2.rectangle(img, x1y1, x2y2, (255, 0, 0), 2)\n",
    "        if label_only:\n",
    "            img = cv2.putText(img, '{}'.format(\n",
    "                class_names[int(classes[i])]),\n",
    "                x1y1, cv2.FONT_HERSHEY_COMPLEX_SMALL, 1, (0, 0, 255), 2)\n",
    "        else:\n",
    "            img = cv2.putText(img, '{} {:.4f}'.format(\n",
    "                class_names[int(classes[i])], objectness[i]),\n",
    "                x1y1, cv2.FONT_HERSHEY_COMPLEX_SMALL, 1, (0, 0, 255), 2)\n",
    "    return img"
   ]
  },
  {
   "cell_type": "code",
   "execution_count": null,
   "id": "9f42ca16",
   "metadata": {},
   "outputs": [],
   "source": [
    "def show_results(path):\n",
    "    img_raw = tf.image.decode_image(\n",
    "        open(path, 'rb').read(), channels=3)\n",
    "    img = tf.image.resize(img_raw, (FLAGS.size, FLAGS.size)) / 255\n",
    "    img = tf.expand_dims(img, 0)\n",
    "    print(img.shape)\n",
    "\n",
    "    t1 = time.time()\n",
    "    bbox, scores = model(img)\n",
    "    boxes, scores, classes, nums = nms(bbox, scores, 0.5)\n",
    "\n",
    "    t2 = time.time()\n",
    "\n",
    "    img = cv2.cvtColor(img_raw.numpy(), cv2.COLOR_RGB2BGR)\n",
    "    img = cv2.cvtColor(img, cv2.COLOR_BGR2RGB)\n",
    "    print(img.shape)\n",
    "    img = draw_outputs(img, (boxes, scores, classes, nums), labels, label_only=True)\n",
    "    print(nums)\n",
    "\n",
    "    plt.imshow(img)\n",
    "    plt.show()"
   ]
  },
  {
   "cell_type": "code",
   "execution_count": null,
   "id": "86b3a1ea",
   "metadata": {},
   "outputs": [],
   "source": [
    "# TRAINING\n",
    "#for path in paths:\n",
    "for i in [0, 1, 3, 5, 6, 7, 8, 9, 11, 12, 17, 21, 42, 300, 400, 401, 403, 406, 410, 420, 1100, 1203, 1204]:\n",
    "    path = (data_root + train_img_paths[i]).numpy()\n",
    "    print(f'img {i}')\n",
    "    show_results(path) "
   ]
  },
  {
   "cell_type": "code",
   "execution_count": null,
   "id": "882ac45c",
   "metadata": {},
   "outputs": [],
   "source": [
    "# TRAINING\n",
    "#for path in paths:\n",
    "for i in [1300, 1301, 1302, 1303, 1304, 1305, 1306, 1307, 1039, 1310, 1312, 1314, 1316, 3000, 3001]:\n",
    "    path = (data_root + train_img_paths[i]).numpy()\n",
    "    print(f'img {i}')\n",
    "    show_results(path) "
   ]
  },
  {
   "cell_type": "code",
   "execution_count": null,
   "id": "c6a8f83d",
   "metadata": {},
   "outputs": [],
   "source": [
    "# TRAINING\n",
    "#for path in paths:\n",
    "for i in [5, 6, 7, 8, 11, 13, 14, 15, 20, 21, 25, 26, 31, 45, 47, 49, 53, 55, 70, 96, 99, 100, 103, 105, 113, 115, 121, 122]:\n",
    "    path = (data_root + val_img_paths[i]).numpy()\n",
    "    print(f'img {i}')\n",
    "    show_results(path) "
   ]
  },
  {
   "cell_type": "code",
   "execution_count": null,
   "id": "aef20817",
   "metadata": {},
   "outputs": [],
   "source": [
    "# TRAINING\n",
    "#for path in paths:\n",
    "for i in [5, 6, 7, 8, 10, 11, 13, 14, 15, 20, 21, 22, 25, 26, 31, 32, 45, 47, 49, 52, 53, 55, 65, 66, 68, 70, 87, 90, 96, 99, 100]:\n",
    "    path = (data_root + test_img_paths[i]).numpy()\n",
    "    print(f'img {i}')\n",
    "    show_results(path) "
   ]
  },
  {
   "cell_type": "code",
   "execution_count": null,
   "id": "2c863ee7",
   "metadata": {},
   "outputs": [],
   "source": [
    "# load the actual model and anchor to be trained\n",
    "model = YoloV3(FLAGS.size, \n",
    "               channels=3, \n",
    "               classes=FLAGS.num_classes, \n",
    "               auxiliary=False, \n",
    "               training=True)\n",
    "anchors, anchor_masks = get_anchors(FLAGS.size)\n",
    "\n",
    "_model_path = 'checkpoints_01/{}-img__{}-layers__{}-bs__{}-epoch__{}-lr.tf'.format('all', 6, 64, 25, '1e-5')\n",
    "model.load_weights(_model_path)"
   ]
  },
  {
   "cell_type": "markdown",
   "id": "e9756014",
   "metadata": {},
   "source": [
    "# Multi-Task"
   ]
  },
  {
   "cell_type": "code",
   "execution_count": 11,
   "id": "3a2ca0fc",
   "metadata": {},
   "outputs": [
    {
     "data": {
      "text/plain": [
       "<tensorflow.python.training.tracking.util.CheckpointLoadStatus at 0x7fb88cf3c250>"
      ]
     },
     "execution_count": 11,
     "metadata": {},
     "output_type": "execute_result"
    }
   ],
   "source": [
    "# load the actual model and anchor to be trained\n",
    "model = YoloV3(FLAGS.size, \n",
    "               channels=3, \n",
    "               classes=FLAGS.num_classes, \n",
    "               auxiliary=False, \n",
    "               training=True)\n",
    "anchors, anchor_masks = get_anchors(FLAGS.size)\n",
    "\n",
    "_model_path = 'checkpoints_01/{}-img__{}-layers__{}-bs__{}-epoch__{}-lr.tf'.format('all', 6, 64, 25, '1e-5')\n",
    "model.load_weights(_model_path)"
   ]
  },
  {
   "cell_type": "code",
   "execution_count": 12,
   "id": "5636f4e1",
   "metadata": {},
   "outputs": [],
   "source": [
    "mtl_model = YoloV3(FLAGS.size,\n",
    "                    channels=3,\n",
    "                    classes=1, disaster_classes = 7,\n",
    "                    yolo_iou_threshold=0.5, yolo_score_threshold=0.4,\n",
    "                    auxiliary=True,\n",
    "                    training=False\n",
    "                  )"
   ]
  },
  {
   "cell_type": "code",
   "execution_count": 13,
   "id": "f03ccb9d",
   "metadata": {},
   "outputs": [],
   "source": [
    "YOLOV3_LAYER_NAMES = [\n",
    "    'yolo_darknet', \n",
    "    'yolo_conv_0', 'yolo_conv_1', 'yolo_conv_2',\n",
    "    'yolo_output_0', 'yolo_output_1', 'yolo_output_2'\n",
    "]\n",
    "\n",
    "for layer_name in YOLOV3_LAYER_NAMES:\n",
    "    mtl_model.get_layer(layer_name).set_weights(\n",
    "        model.get_layer(layer_name).get_weights())"
   ]
  },
  {
   "cell_type": "code",
   "execution_count": 14,
   "id": "dac71f78",
   "metadata": {},
   "outputs": [],
   "source": [
    "mtl_model.get_layer('disaster_head').load_weights('best_disaster_head.h5')"
   ]
  },
  {
   "cell_type": "code",
   "execution_count": 15,
   "id": "ab13138b",
   "metadata": {},
   "outputs": [
    {
     "data": {
      "text/plain": [
       "[<KerasTensor: shape=(None, 4) dtype=float32 (created by layer 'yolo_nms')>,\n",
       " <KerasTensor: shape=(None,) dtype=float32 (created by layer 'yolo_nms')>,\n",
       " <KerasTensor: shape=(None, 7) dtype=float32 (created by layer 'disaster_head')>]"
      ]
     },
     "execution_count": 15,
     "metadata": {},
     "output_type": "execute_result"
    }
   ],
   "source": [
    "mtl_model.outputs"
   ]
  },
  {
   "cell_type": "code",
   "execution_count": null,
   "id": "0d7d484c",
   "metadata": {},
   "outputs": [],
   "source": [
    "path = (data_root + test_img_paths[9]).numpy()\n",
    "img_raw = tf.image.decode_image(\n",
    "    open(path, 'rb').read(), channels=3)\n",
    "img = tf.expand_dims(img_raw, 0)\n",
    "img = dataset.transform_images(img, FLAGS.size)\n",
    "print(f'Resized image shape for prediction: {img.shape}\\n')\n",
    "\n",
    "t1 = time.time()\n",
    "boxes, scores, classes, nums, disaster = mtl_model.predict(img)\n",
    "\n",
    "img = cv2.cvtColor(img_raw.numpy(), cv2.COLOR_RGB2BGR)\n",
    "img = cv2.cvtColor(img, cv2.COLOR_BGR2RGB)\n",
    "print(f'Actual image shape: {img.shape}\\n')\n",
    "img = draw_outputs(img_raw.numpy(), (boxes, scores, classes, nums), labels)\n",
    "print(f'Total detections:{nums}\\n')\n",
    "print(f'Disaster type: {unique_label[tf.argmax(disaster[0]).numpy()]}\\n')\n",
    "\n",
    "plt.imshow(img)\n",
    "plt.show()\n",
    "\n",
    "# cv2.imshow('output', img)\n",
    "# cv2.waitKey(1)\n",
    "\n",
    "# cv2.imwrite('savedImage.jpg', cv2.cvtColor(img, cv2.COLOR_BGR2RGB))\n",
    "t2 = time.time()\n",
    "print(t2-t1)"
   ]
  },
  {
   "cell_type": "code",
   "execution_count": null,
   "id": "a0d70909",
   "metadata": {},
   "outputs": [],
   "source": [
    "mtl_model.load_weights('mtl_model.h5')"
   ]
  },
  {
   "cell_type": "code",
   "execution_count": null,
   "id": "f7739adf",
   "metadata": {},
   "outputs": [],
   "source": []
  },
  {
   "cell_type": "code",
   "execution_count": 16,
   "id": "6e78d875",
   "metadata": {},
   "outputs": [],
   "source": [
    "mtl_model.save_weights('mtl_model_rpi.h5')"
   ]
  },
  {
   "cell_type": "code",
   "execution_count": 17,
   "id": "dd67606b",
   "metadata": {},
   "outputs": [],
   "source": [
    "mtl_model.load_weights('mtl_model_rpi.h5')"
   ]
  },
  {
   "cell_type": "code",
   "execution_count": 18,
   "id": "c3ad46b9",
   "metadata": {
    "scrolled": true
   },
   "outputs": [
    {
     "name": "stdout",
     "output_type": "stream",
     "text": [
      "WARNING:tensorflow:Compiled the loaded model, but the compiled metrics have yet to be built. `model.compile_metrics` will be empty until you train or evaluate the model.\n"
     ]
    },
    {
     "name": "stderr",
     "output_type": "stream",
     "text": [
      "2022-06-06 02:07:47.222731: W tensorflow/python/util/util.cc:348] Sets are not currently considered sequences, but this may change in the future, so consider avoiding using them.\n",
      "/home/tham/anaconda3/envs/rns/lib/python3.7/site-packages/tensorflow/python/keras/utils/generic_utils.py:497: CustomMaskWarning: Custom mask layers require a config and must override get_config. When loading, the custom mask layer must be passed to the custom_objects argument.\n",
      "  category=CustomMaskWarning)\n"
     ]
    },
    {
     "name": "stdout",
     "output_type": "stream",
     "text": [
      "INFO:tensorflow:Assets written to: mtl_model_rpi/assets\n"
     ]
    }
   ],
   "source": [
    "mtl_model.save(\"mtl_model_rpi\")"
   ]
  },
  {
   "cell_type": "code",
   "execution_count": null,
   "id": "5632f1d9",
   "metadata": {},
   "outputs": [],
   "source": []
  },
  {
   "cell_type": "code",
   "execution_count": null,
   "id": "b9add016",
   "metadata": {},
   "outputs": [],
   "source": []
  },
  {
   "cell_type": "code",
   "execution_count": null,
   "id": "72215c11",
   "metadata": {},
   "outputs": [],
   "source": []
  },
  {
   "cell_type": "code",
   "execution_count": null,
   "id": "979ecef8",
   "metadata": {},
   "outputs": [],
   "source": []
  },
  {
   "cell_type": "code",
   "execution_count": null,
   "id": "662687de",
   "metadata": {},
   "outputs": [],
   "source": []
  },
  {
   "cell_type": "code",
   "execution_count": null,
   "id": "87910388",
   "metadata": {},
   "outputs": [],
   "source": []
  },
  {
   "cell_type": "code",
   "execution_count": null,
   "id": "97d1582b",
   "metadata": {},
   "outputs": [],
   "source": []
  },
  {
   "cell_type": "code",
   "execution_count": null,
   "id": "eff3bdae",
   "metadata": {},
   "outputs": [],
   "source": []
  },
  {
   "cell_type": "code",
   "execution_count": null,
   "id": "9695d41c",
   "metadata": {},
   "outputs": [],
   "source": []
  },
  {
   "cell_type": "code",
   "execution_count": null,
   "id": "c6d49b42",
   "metadata": {},
   "outputs": [],
   "source": []
  },
  {
   "cell_type": "code",
   "execution_count": null,
   "id": "895d5b74",
   "metadata": {},
   "outputs": [],
   "source": []
  },
  {
   "cell_type": "code",
   "execution_count": null,
   "id": "55991d72",
   "metadata": {},
   "outputs": [],
   "source": []
  },
  {
   "cell_type": "code",
   "execution_count": null,
   "id": "270f2434",
   "metadata": {},
   "outputs": [],
   "source": []
  },
  {
   "cell_type": "code",
   "execution_count": null,
   "id": "fad2316d",
   "metadata": {},
   "outputs": [],
   "source": []
  },
  {
   "cell_type": "code",
   "execution_count": null,
   "id": "d9ddfbe8",
   "metadata": {},
   "outputs": [],
   "source": []
  },
  {
   "cell_type": "code",
   "execution_count": null,
   "id": "2c996200",
   "metadata": {},
   "outputs": [],
   "source": []
  },
  {
   "cell_type": "code",
   "execution_count": null,
   "id": "aa932140",
   "metadata": {},
   "outputs": [],
   "source": []
  },
  {
   "cell_type": "code",
   "execution_count": null,
   "id": "c73db944",
   "metadata": {},
   "outputs": [],
   "source": []
  },
  {
   "cell_type": "code",
   "execution_count": null,
   "id": "42ee0cc1",
   "metadata": {},
   "outputs": [],
   "source": []
  },
  {
   "cell_type": "code",
   "execution_count": null,
   "id": "6fb11e54",
   "metadata": {},
   "outputs": [],
   "source": []
  },
  {
   "cell_type": "code",
   "execution_count": null,
   "id": "24951f0b",
   "metadata": {},
   "outputs": [],
   "source": []
  },
  {
   "cell_type": "code",
   "execution_count": null,
   "id": "cb6069a6",
   "metadata": {},
   "outputs": [],
   "source": []
  },
  {
   "cell_type": "code",
   "execution_count": null,
   "id": "574c065c",
   "metadata": {},
   "outputs": [],
   "source": []
  },
  {
   "cell_type": "code",
   "execution_count": null,
   "id": "e136209a",
   "metadata": {},
   "outputs": [],
   "source": []
  }
 ],
 "metadata": {
  "kernelspec": {
   "display_name": "Python 3 (ipykernel)",
   "language": "python",
   "name": "python3"
  },
  "language_info": {
   "codemirror_mode": {
    "name": "ipython",
    "version": 3
   },
   "file_extension": ".py",
   "mimetype": "text/x-python",
   "name": "python",
   "nbconvert_exporter": "python",
   "pygments_lexer": "ipython3",
   "version": "3.7.13"
  }
 },
 "nbformat": 4,
 "nbformat_minor": 5
}
